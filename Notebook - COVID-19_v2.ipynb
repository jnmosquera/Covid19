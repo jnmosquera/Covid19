{
 "cells": [
  {
   "cell_type": "code",
   "execution_count": 1,
   "metadata": {
    "scrolled": false
   },
   "outputs": [
    {
     "data": {
      "text/html": [
       "<div style=\"width: 100%;\"><div style=\"position: relative; padding-bottom: 56.25%; padding-top: 0; height: 0;\"><iframe frameborder=\"0\" width=\"1200\" height=\"675\" style=\"position: absolute; top: 0; left: 0; width: 100%; height: 100%;\" src=\"https://view.genial.ly/5f6532697ba1040d0cd5add7\" type=\"text/html\" allowscriptaccess=\"always\" allowfullscreen=\"true\" scrolling=\"yes\" allownetworking=\"all\"></iframe> </div> </div>"
      ],
      "text/plain": [
       "<IPython.core.display.HTML object>"
      ]
     },
     "execution_count": 1,
     "metadata": {},
     "output_type": "execute_result"
    }
   ],
   "source": [
    "import IPython\n",
    "iframe = '<div style=\"width: 100%;\"><div style=\"position: relative; padding-bottom: 56.25%; padding-top: 0; height: 0;\"><iframe frameborder=\"0\" width=\"1200\" height=\"675\" style=\"position: absolute; top: 0; left: 0; width: 100%; height: 100%;\" src=\"https://view.genial.ly/5f6532697ba1040d0cd5add7\" type=\"text/html\" allowscriptaccess=\"always\" allowfullscreen=\"true\" scrolling=\"yes\" allownetworking=\"all\"></iframe> </div> </div>'\n",
    "IPython.display.HTML(iframe)"
   ]
  },
  {
   "cell_type": "code",
   "execution_count": 2,
   "metadata": {},
   "outputs": [],
   "source": [
    "import pandas as pd\n",
    "import numpy as np\n",
    "import seaborn as sns\n",
    "import matplotlib.pyplot as plt\n",
    "import timeit"
   ]
  },
  {
   "cell_type": "markdown",
   "metadata": {},
   "source": [
    "<a id=\"top\"></a>\n",
    "## Tabla de contenidos\n",
    "\n",
    "### <a href='#pregunta_negocio'> 0. Cual es la pregunta de negocio? </a>\n",
    "### <a href='#carga_datos'> 1. Carga de los datos </a>\n",
    "- #### <a href='#carga_dict'> Carga de los diccionarios </a>\n",
    "- #### <a href='#replace_dict'> Diccionario de reemplazo </a>\n",
    "- #### <a href='#column_selection'> Selección de columnas </a>\n",
    "- #### <a href='#date_correction'> Correción de Fechas </a>\n",
    "- #### <a href='#categoric_correction'> Correción de Categorias </a>\n",
    "- #### <a href='#features'>Features y Target </a>\n",
    "- #### <a href='#dummies'> Creación de Dummies </a>\n",
    "### <a href='#clasificadores'> Clasificadores </a>\n",
    "- #### <a href='#imports'> Imports Necesarios </a>\n",
    "- #### <a href='#primer_solucion'> Primer Solución </a>\n",
    "- #### <a href='#knn'> KNN </a>\n",
    "- #### <a href='#regresion_logistica'> Regresión Logistica </a>\n",
    "    - ##### <a href='#regresion_logistica_tune'> Tuneamos hiperparametros </a>\n",
    "    - ##### <a href='#grafico_precission_recall'> Gráfico Precission-recall </a>\n",
    "- #### <a href='#naive_gauss'> Naive Gauss </a>\n",
    "- #### <a href='#comp_model'> Comparacion de Modelos </a>\n",
    "    - ##### <a href='#conclusiones'> Conclusiones </a>\n",
    "    - ##### <a href='#teoria'> Un poco de teoría </a>\n",
    "    - ##### <a href='#reglog_analisis'> Análisis de la Regresión Logística </a>\n"
   ]
  },
  {
   "cell_type": "markdown",
   "metadata": {},
   "source": [
    "<a id=\"pregunta_negocio\"></a>\n",
    "# Si me contagio de Covid en base a mi historial clínico y mi edad voy a:\n",
    "## 1. Estar ambulatorio\n",
    "## 2. Estar hospitalizado\n",
    "- #### <a href='#top'> Tabla de Contenidos </a>"
   ]
  },
  {
   "cell_type": "markdown",
   "metadata": {},
   "source": [
    "<a id=\"carga_datos\"></a>\n",
    "# Carga de datos \n",
    "- #### <a href='#top'> Tabla de Contenidos </a>\n",
    "\n",
    "Obtuvimos los datos de la página oficial del ministerio de salud de México:\n",
    "    https://www.gob.mx/salud/documentos/datos-abiertos-152127\n",
    "    \n",
    "Donde se puede ver el archivo con los datos actualizados día a día y además el diccionario de datos para entender que representa cada columna y su correspondiente códificación."
   ]
  },
  {
   "cell_type": "code",
   "execution_count": 3,
   "metadata": {},
   "outputs": [],
   "source": [
    "# Hacemos un read csv y tenemos la salvedad de cargar como str algunos campos porque es necesrio luego concatenarlos\n",
    "# para poder traducirlos\n",
    "mexico = pd.read_csv('200911COVID19MEXICO.csv', header=0, encoding= 'latin-1', dtype={'ENTIDAD_UM': 'str','ENTIDAD_NAC':'str', 'ENTIDAD_RES':'str', 'MUNICIPIO_RES':'str'})\n"
   ]
  },
  {
   "cell_type": "code",
   "execution_count": 4,
   "metadata": {},
   "outputs": [],
   "source": [
    "# De todos los valores nos quedamos solo con los infectados por nuestra pregunta de negocio\n",
    "mexicoInfectados = mexico[mexico['RESULTADO'] == 1].copy()"
   ]
  },
  {
   "cell_type": "code",
   "execution_count": 5,
   "metadata": {},
   "outputs": [
    {
     "name": "stdout",
     "output_type": "stream",
     "text": [
      "<class 'pandas.core.frame.DataFrame'>\n",
      "Int64Index: 658299 entries, 0 to 1003431\n",
      "Data columns (total 35 columns):\n",
      " #   Column               Non-Null Count   Dtype \n",
      "---  ------               --------------   ----- \n",
      " 0   FECHA_ACTUALIZACION  658299 non-null  object\n",
      " 1   ID_REGISTRO          658299 non-null  object\n",
      " 2   ORIGEN               658299 non-null  int64 \n",
      " 3   SECTOR               658299 non-null  int64 \n",
      " 4   ENTIDAD_UM           658299 non-null  object\n",
      " 5   SEXO                 658299 non-null  int64 \n",
      " 6   ENTIDAD_NAC          658299 non-null  object\n",
      " 7   ENTIDAD_RES          658299 non-null  object\n",
      " 8   MUNICIPIO_RES        658299 non-null  object\n",
      " 9   TIPO_PACIENTE        658299 non-null  int64 \n",
      " 10  FECHA_INGRESO        658299 non-null  object\n",
      " 11  FECHA_SINTOMAS       658299 non-null  object\n",
      " 12  FECHA_DEF            658299 non-null  object\n",
      " 13  INTUBADO             658299 non-null  int64 \n",
      " 14  NEUMONIA             658299 non-null  int64 \n",
      " 15  EDAD                 658299 non-null  int64 \n",
      " 16  NACIONALIDAD         658299 non-null  int64 \n",
      " 17  EMBARAZO             658299 non-null  int64 \n",
      " 18  HABLA_LENGUA_INDIG   658299 non-null  int64 \n",
      " 19  DIABETES             658299 non-null  int64 \n",
      " 20  EPOC                 658299 non-null  int64 \n",
      " 21  ASMA                 658299 non-null  int64 \n",
      " 22  INMUSUPR             658299 non-null  int64 \n",
      " 23  HIPERTENSION         658299 non-null  int64 \n",
      " 24  OTRA_COM             658299 non-null  int64 \n",
      " 25  CARDIOVASCULAR       658299 non-null  int64 \n",
      " 26  OBESIDAD             658299 non-null  int64 \n",
      " 27  RENAL_CRONICA        658299 non-null  int64 \n",
      " 28  TABAQUISMO           658299 non-null  int64 \n",
      " 29  OTRO_CASO            658299 non-null  int64 \n",
      " 30  RESULTADO            658299 non-null  int64 \n",
      " 31  MIGRANTE             658299 non-null  int64 \n",
      " 32  PAIS_NACIONALIDAD    658299 non-null  object\n",
      " 33  PAIS_ORIGEN          658299 non-null  object\n",
      " 34  UCI                  658299 non-null  int64 \n",
      "dtypes: int64(24), object(11)\n",
      "memory usage: 180.8+ MB\n"
     ]
    }
   ],
   "source": [
    "# Verificamos que se haya cargado correctamente\n",
    "mexicoInfectados.info()"
   ]
  },
  {
   "cell_type": "code",
   "execution_count": 6,
   "metadata": {},
   "outputs": [],
   "source": [
    "# Siguiendo lo que indica el diccionario concatenamos los campos para armar la clave del municipio\n",
    "mexicoInfectados['keyMunicipio'] = mexicoInfectados['ENTIDAD_RES'] + mexicoInfectados['MUNICIPIO_RES']\n"
   ]
  },
  {
   "cell_type": "code",
   "execution_count": 7,
   "metadata": {},
   "outputs": [
    {
     "name": "stdout",
     "output_type": "stream",
     "text": [
      "<class 'pandas.core.frame.DataFrame'>\n",
      "Int64Index: 658299 entries, 0 to 1003431\n",
      "Data columns (total 36 columns):\n",
      " #   Column               Non-Null Count   Dtype \n",
      "---  ------               --------------   ----- \n",
      " 0   FECHA_ACTUALIZACION  658299 non-null  object\n",
      " 1   ID_REGISTRO          658299 non-null  object\n",
      " 2   ORIGEN               658299 non-null  int64 \n",
      " 3   SECTOR               658299 non-null  int64 \n",
      " 4   ENTIDAD_UM           658299 non-null  object\n",
      " 5   SEXO                 658299 non-null  int64 \n",
      " 6   ENTIDAD_NAC          658299 non-null  object\n",
      " 7   ENTIDAD_RES          658299 non-null  object\n",
      " 8   MUNICIPIO_RES        658299 non-null  object\n",
      " 9   TIPO_PACIENTE        658299 non-null  int64 \n",
      " 10  FECHA_INGRESO        658299 non-null  object\n",
      " 11  FECHA_SINTOMAS       658299 non-null  object\n",
      " 12  FECHA_DEF            658299 non-null  object\n",
      " 13  INTUBADO             658299 non-null  int64 \n",
      " 14  NEUMONIA             658299 non-null  int64 \n",
      " 15  EDAD                 658299 non-null  int64 \n",
      " 16  NACIONALIDAD         658299 non-null  int64 \n",
      " 17  EMBARAZO             658299 non-null  int64 \n",
      " 18  HABLA_LENGUA_INDIG   658299 non-null  int64 \n",
      " 19  DIABETES             658299 non-null  int64 \n",
      " 20  EPOC                 658299 non-null  int64 \n",
      " 21  ASMA                 658299 non-null  int64 \n",
      " 22  INMUSUPR             658299 non-null  int64 \n",
      " 23  HIPERTENSION         658299 non-null  int64 \n",
      " 24  OTRA_COM             658299 non-null  int64 \n",
      " 25  CARDIOVASCULAR       658299 non-null  int64 \n",
      " 26  OBESIDAD             658299 non-null  int64 \n",
      " 27  RENAL_CRONICA        658299 non-null  int64 \n",
      " 28  TABAQUISMO           658299 non-null  int64 \n",
      " 29  OTRO_CASO            658299 non-null  int64 \n",
      " 30  RESULTADO            658299 non-null  int64 \n",
      " 31  MIGRANTE             658299 non-null  int64 \n",
      " 32  PAIS_NACIONALIDAD    658299 non-null  object\n",
      " 33  PAIS_ORIGEN          658299 non-null  object\n",
      " 34  UCI                  658299 non-null  int64 \n",
      " 35  keyMunicipio         658299 non-null  object\n",
      "dtypes: int64(24), object(12)\n",
      "memory usage: 185.8+ MB\n"
     ]
    }
   ],
   "source": [
    "# Verificamos que la clave se haya agregado y se mantenga como str\n",
    "mexicoInfectados.info()"
   ]
  },
  {
   "cell_type": "markdown",
   "metadata": {},
   "source": [
    "<a id=\"carga_dict\"></a>\n",
    "## Creamos los diccionarios de datos\n",
    "- #### <a href='#top'> Tabla de Contenidos </a>\n",
    "\n",
    "Para poder trabajar mejor con los datos aplicamos el diccionario de datos que provee la página del ministerio y construimos los diccionarios en python para luego aplicarlos a los campos según corresponda."
   ]
  },
  {
   "cell_type": "code",
   "execution_count": 8,
   "metadata": {},
   "outputs": [],
   "source": [
    "origenDict = {1:'USMER',2:'FUERA DE USMER',99:'NO ESPECIFICADO'}\n",
    "sectorDict = {\n",
    "    1:'CRUZ ROJA'\n",
    "    ,2:'DIF'\n",
    "    ,3:'ESTATAL'\n",
    "    ,4:'IMSS'\n",
    "    ,5:'IMSS-BIENESTAR'\n",
    "    ,6:'ISSSTE'\n",
    "    ,7:'MUNICIPAL'\n",
    "    ,8:'PEMEX'\n",
    "    ,9:'PRIVADA'\n",
    "    ,10:'SEDENA'\n",
    "    ,11:'SEMAR'\n",
    "    ,12:'SSA'\n",
    "    ,13:'UNIVERSITARIO'\n",
    "    ,99:'NO ESPECIFICADO'\n",
    "}\n",
    "sexoDict = {1:'MUJER',2:'HOMBRE',99:'NO ESPECIFICADO'}\n",
    "tipoPacienteDict = {1:'AMBULATORIO',2:'HOSPITALIZADO',99:'NO ESPECIFICADO'}\n",
    "siNoDict = {1:'SI',2:'NO',97:'NO APLICA',98:'SE IGNORA',99:'NO ESPECIFICADO'}\n",
    "nacionalidadDict = {1:'MEXICANA',2:'EXTRANJERA',99:'NO ESPECIFICADO'}\n",
    "resuladoDict = {1:'Positivo SARS-CoV-2',2:'No positivo SARS-CoV-2',3:'Resultado pendiente'}"
   ]
  },
  {
   "cell_type": "markdown",
   "metadata": {},
   "source": [
    "<a id=\"replace_dict\"></a>\n",
    "## Diccionario de reemplazo\n",
    "- #### <a href='#top'> Tabla de Contenidos </a>\n",
    "\n",
    "Creamos el diccionario con el que vamos a terminar trabajando"
   ]
  },
  {
   "cell_type": "code",
   "execution_count": 9,
   "metadata": {},
   "outputs": [],
   "source": [
    "# Asociamos cada diccioanrio al campo correspondiente\n",
    "replaceDict = {\n",
    "    'ORIGEN':origenDict\n",
    "    ,'SECTOR':sectorDict\n",
    "    ,'SEXO':sexoDict\n",
    "    ,'FECHA_DEF':{'9999-99-99':'1900-01-01'}\n",
    "    ,'TIPO_PACIENTE':tipoPacienteDict\n",
    "    ,'NEUMONIA':siNoDict\n",
    "    ,'EMBARAZO':siNoDict\n",
    "    ,'DIABETES':siNoDict\n",
    "    ,'EPOC':siNoDict\n",
    "    ,'ASMA':siNoDict\n",
    "    ,'INMUSUPR':siNoDict\n",
    "    ,'HIPERTENSION':siNoDict\n",
    "    ,'OTRA_COM':siNoDict\n",
    "    ,'CARDIOVASCULAR':siNoDict\n",
    "    ,'OBESIDAD':siNoDict\n",
    "    ,'RENAL_CRONICA':siNoDict\n",
    "    ,'TABAQUISMO':siNoDict\n",
    "    ,'OTRO_CASO':siNoDict\n",
    "    ,'RESULTADO':resuladoDict\n",
    "    ,'UCI':siNoDict\n",
    "}\n"
   ]
  },
  {
   "cell_type": "code",
   "execution_count": 10,
   "metadata": {},
   "outputs": [],
   "source": [
    "# Aplicacmos el diccionario a los datos de los infectados\n",
    "mexicoInfectados.replace(replaceDict,inplace=True)"
   ]
  },
  {
   "cell_type": "markdown",
   "metadata": {},
   "source": [
    "<a id=\"column_selection\"></a>\n",
    "\n",
    "## Seleccionar columnas\n",
    "- #### <a href='#top'> Tabla de Contenidos </a>\n",
    "\n",
    "Con las columnas ya trabajadas y traducidas de números a categorias legibles aplicamos los paso para dejar el dataset que finalmente será utilizado para crear los clasificadores.\n",
    "\n",
    "Vamos a dropear las columnas:<br>\n",
    "`'ID_REGISTRO'\n",
    "'MUNICIPIO_RES'\n",
    "'FECHA_ACTUALIZACION'\n",
    "'keyMunicipio'\n",
    "'ENTIDAD_UM'\n",
    "'ENTIDAD_NAC'\n",
    "'ENTIDAD_RES'\n",
    "'MUNICIPIO_RES'\n",
    "'INTUBADO'\n",
    "'NACIONALIDAD'\n",
    "'HABLA_LENGUA_INDIG'\n",
    "'RESULTADO'\n",
    "'MIGRANTE'\n",
    "'PAIS_NACIONALIDAD'\n",
    "'PAIS_ORIGEN'`<br>\n",
    "\n",
    "Pirncipalmente para quedarnos solo con datos que son previos a la hopitalización y medicos. Consideramos que los datos de locación deberían de no tener relación con nuestra pregunta de negocio aunque sin duda podría tener que ver con otras preguntas posibles."
   ]
  },
  {
   "cell_type": "code",
   "execution_count": 11,
   "metadata": {},
   "outputs": [
    {
     "data": {
      "text/plain": [
       "ORIGEN            FUERA DE USMER\n",
       "SECTOR                   ESTATAL\n",
       "SEXO                      HOMBRE\n",
       "TIPO_PACIENTE      HOSPITALIZADO\n",
       "FECHA_INGRESO         2020-05-27\n",
       "FECHA_SINTOMAS        2020-05-25\n",
       "FECHA_DEF             1900-01-01\n",
       "NEUMONIA                      SI\n",
       "EDAD                          58\n",
       "EMBARAZO               NO APLICA\n",
       "DIABETES                      SI\n",
       "EPOC                          NO\n",
       "ASMA                          NO\n",
       "INMUSUPR                      NO\n",
       "HIPERTENSION                  SI\n",
       "OTRA_COM                      NO\n",
       "CARDIOVASCULAR                NO\n",
       "OBESIDAD                      NO\n",
       "RENAL_CRONICA                 NO\n",
       "TABAQUISMO                    NO\n",
       "OTRO_CASO                     NO\n",
       "UCI                           NO\n",
       "Name: 0, dtype: object"
      ]
     },
     "execution_count": 11,
     "metadata": {},
     "output_type": "execute_result"
    }
   ],
   "source": [
    "# Se descartan las columnas no necesarias\n",
    "mexicoInfectadosDepurado = mexicoInfectados.drop(['ID_REGISTRO','MUNICIPIO_RES','FECHA_ACTUALIZACION','keyMunicipio','ENTIDAD_UM','ENTIDAD_NAC','ENTIDAD_RES','MUNICIPIO_RES','INTUBADO','NACIONALIDAD','HABLA_LENGUA_INDIG','RESULTADO','MIGRANTE','PAIS_NACIONALIDAD','PAIS_ORIGEN'], axis=1)\n",
    "\n",
    "#Se muestra un set de datos del dataframe\n",
    "mexicoInfectadosDepurado.iloc[0,:]\n"
   ]
  },
  {
   "cell_type": "code",
   "execution_count": 12,
   "metadata": {},
   "outputs": [
    {
     "name": "stdout",
     "output_type": "stream",
     "text": [
      "Nos quedamos con 22 columnas y quitamos del dataset original 14\n"
     ]
    }
   ],
   "source": [
    "# Explicamos el dataset final\n",
    "print(f'Nos quedamos con {mexicoInfectadosDepurado.shape[1]} columnas y quitamos del dataset original {mexicoInfectados.shape[1]-mexicoInfectadosDepurado.shape[1]}')\n"
   ]
  },
  {
   "cell_type": "markdown",
   "metadata": {},
   "source": [
    "<a id=\"date_correction\"></a>\n",
    "\n",
    "## Corrección de fecha\n",
    "- #### <a href='#top'> Tabla de Contenidos </a>\n",
    "\n",
    "Dado que el dataset no informa la fecha de alta, debemos establecer un criterio para cerrar los casos y considerarlos en nuestro modelo. Segun lo consultado con un infectologo, nos sugiere en base a lo definido por criterios medicos que tomemos 14 dias desde el comienzo de los sintomas para dar por cerrado el caso. \n",
    "Para asegurarnos de ello tomamos los casos 14 dias anteriores a la ultima fecha que es 10-09-2020 o sea casos anteriores al 27-08-2020. "
   ]
  },
  {
   "cell_type": "code",
   "execution_count": 13,
   "metadata": {},
   "outputs": [
    {
     "name": "stdout",
     "output_type": "stream",
     "text": [
      "<class 'pandas.core.frame.DataFrame'>\n",
      "Int64Index: 658299 entries, 0 to 1003431\n",
      "Data columns (total 22 columns):\n",
      " #   Column          Non-Null Count   Dtype         \n",
      "---  ------          --------------   -----         \n",
      " 0   ORIGEN          658299 non-null  object        \n",
      " 1   SECTOR          658299 non-null  object        \n",
      " 2   SEXO            658299 non-null  object        \n",
      " 3   TIPO_PACIENTE   658299 non-null  object        \n",
      " 4   FECHA_INGRESO   658299 non-null  datetime64[ns]\n",
      " 5   FECHA_SINTOMAS  658299 non-null  datetime64[ns]\n",
      " 6   FECHA_DEF       658299 non-null  datetime64[ns]\n",
      " 7   NEUMONIA        658299 non-null  object        \n",
      " 8   EDAD            658299 non-null  int64         \n",
      " 9   EMBARAZO        658299 non-null  object        \n",
      " 10  DIABETES        658299 non-null  object        \n",
      " 11  EPOC            658299 non-null  object        \n",
      " 12  ASMA            658299 non-null  object        \n",
      " 13  INMUSUPR        658299 non-null  object        \n",
      " 14  HIPERTENSION    658299 non-null  object        \n",
      " 15  OTRA_COM        658299 non-null  object        \n",
      " 16  CARDIOVASCULAR  658299 non-null  object        \n",
      " 17  OBESIDAD        658299 non-null  object        \n",
      " 18  RENAL_CRONICA   658299 non-null  object        \n",
      " 19  TABAQUISMO      658299 non-null  object        \n",
      " 20  OTRO_CASO       658299 non-null  object        \n",
      " 21  UCI             658299 non-null  object        \n",
      "dtypes: datetime64[ns](3), int64(1), object(18)\n",
      "memory usage: 135.5+ MB\n"
     ]
    }
   ],
   "source": [
    "# Corregimos los data types a datetime\n",
    "mexicoInfectadosDepurado['FECHA_INGRESO'] = pd.to_datetime(mexicoInfectadosDepurado['FECHA_INGRESO'], yearfirst= True, format='%Y-%m-%d')\n",
    "mexicoInfectadosDepurado['FECHA_SINTOMAS'] = pd.to_datetime(mexicoInfectadosDepurado['FECHA_SINTOMAS'], yearfirst= True, format='%Y-%m-%d')\n",
    "mexicoInfectadosDepurado['FECHA_DEF'] = pd.to_datetime(mexicoInfectadosDepurado['FECHA_DEF'], yearfirst= True, format='%Y-%m-%d')\n",
    "\n",
    "\n",
    "mexicoInfectadosDepurado.info()\n"
   ]
  },
  {
   "cell_type": "code",
   "execution_count": 14,
   "metadata": {},
   "outputs": [],
   "source": [
    "# Dropeamos los registros cuyos sintomas son mayores al 26-08-2020\n",
    "mexicoInfectadosDepuradoCasoCerrados=mexicoInfectadosDepurado.drop(mexicoInfectadosDepurado[mexicoInfectadosDepurado['FECHA_SINTOMAS']>\"2020-08-26\"].index)\n"
   ]
  },
  {
   "cell_type": "code",
   "execution_count": 15,
   "metadata": {},
   "outputs": [
    {
     "name": "stdout",
     "output_type": "stream",
     "text": [
      "El total de casos positivos es: 621295\n"
     ]
    }
   ],
   "source": [
    "print (\"El total de casos positivos es:\" ,mexicoInfectadosDepuradoCasoCerrados.shape[0])"
   ]
  },
  {
   "cell_type": "markdown",
   "metadata": {},
   "source": [
    "<a id=\"categoric_correction\"></a>\n",
    "## Correción de datos categoricos\n",
    "- #### <a href='#top'> Tabla de Contenidos </a>\n",
    "\n",
    "En función del análisis de los valores categóricos de cada dato, vamos a tomar las siguientes determinaciones, para fijar un escenario de trabajo\n",
    "\n",
    "* Para `EMBARAZO`\n",
    "    * Todos los 'no aplica' corresponden a HOMBRE, por lo que se transformarán a NO\n",
    "    * Tdodos los SE IGNORA corresponden a MUJER y se transformarán en NO, porque es muy probable que, en esos casos, sean muy recientes\n",
    "\n",
    "* En la columna `NEUMONIA` los casos 'NO ESPECIFICADO' se transforman en 'SE IGNORA'\n",
    "* La columna `OTRO_CASO` se deshecha, ya que si el contagio proviene o no de algún contacto ya confirmado no influye en lo que se quiere determinar\n",
    "* La columna `UCI` se deshecha\n",
    "* LOs datos de TIPO_PACIENTE se convierten: AMBULATORIO pasa de 1 a 0, HOSPITALIZADO pasa de 2 a 1\n",
    "* Los registros que tengan \"NO ESPECIFICADO\" en las comorbilidades, se mantienen por el momento"
   ]
  },
  {
   "cell_type": "code",
   "execution_count": 16,
   "metadata": {},
   "outputs": [],
   "source": [
    "# Transformo los 'no aplica' de EMBARAZO para 'HOMBRES'\n",
    "valores_viejos = ['NO APLICA']\n",
    "valores_nuevos = ['NO']\n",
    "columnas = ['EMBARAZO']\n",
    "for i in columnas:\n",
    "    mexicoInfectadosDepuradoCasoCerrados[i] = mexicoInfectadosDepuradoCasoCerrados[i].replace(valores_viejos, valores_nuevos)\n",
    "    "
   ]
  },
  {
   "cell_type": "code",
   "execution_count": 17,
   "metadata": {},
   "outputs": [],
   "source": [
    "# Transformo los 'se ignora' de EMBARAZO\n",
    "mask = mexicoInfectadosDepuradoCasoCerrados.EMBARAZO == 'SE IGNORA'    \n",
    "valores_viejos = ['SE IGNORA']\n",
    "valores_nuevos = ['NO']\n",
    "mexicoInfectadosDepuradoCasoCerrados.loc[mask,'EMBARAZO'] = mexicoInfectadosDepuradoCasoCerrados.loc[mask,'EMBARAZO'].replace(valores_viejos, valores_nuevos)\n"
   ]
  },
  {
   "cell_type": "code",
   "execution_count": 18,
   "metadata": {},
   "outputs": [],
   "source": [
    "# Transformo los 'NO ESPECIFICADO' de NEUMONIA\n",
    "valores_viejos = ['NO ESPECIFICADO']\n",
    "valores_nuevos = ['SE IGNORA']\n",
    "columnas = ['NEUMONIA']\n",
    "for i in columnas:\n",
    "    mexicoInfectadosDepuradoCasoCerrados[i] = mexicoInfectadosDepuradoCasoCerrados[i].replace(valores_viejos, valores_nuevos)\n",
    "    "
   ]
  },
  {
   "cell_type": "code",
   "execution_count": 19,
   "metadata": {},
   "outputs": [],
   "source": [
    "# Deshecho columna OTRO_CASO y UCI\n",
    "mexicoInfectadosDepuradoCasoCerrados = mexicoInfectadosDepuradoCasoCerrados.drop(['OTRO_CASO', 'UCI'], axis=1)"
   ]
  },
  {
   "cell_type": "markdown",
   "metadata": {},
   "source": [
    "<a id=\"features\"></a>\n",
    "\n",
    "## Features y Target \n",
    "- #### <a href='#top'> Tabla de Contenidos </a>\n",
    "\n",
    "#### Nuestros Features son:\n",
    "\n",
    "`ORIGEN               SECTOR       SEXO               NEUMONIA             EDAD\n",
    " EMBARAZO             DIABETES     EPOC               ASMA                INMUSUPR\n",
    " HIPERTENSION         OTRA_COM     CARDIOVASCULAR     OBESIDAD            RENAL_CRONICA\n",
    " TABAQUISMO`\n",
    "\n",
    "#### Nuestro Target es: `TIPO_PACIENTE`   Etiquetas actuales: `hospitalizado o ambulatorio`"
   ]
  },
  {
   "cell_type": "markdown",
   "metadata": {},
   "source": [
    "<a id=\"dummies\"></a>\n",
    "\n",
    "## Contrucción de Dummies\n",
    "- #### <a href='#top'> Tabla de Contenidos </a>\n",
    "\n",
    "Seleccionamos las columnas que van a pasar a ser dummies en el dataset final.<br>\n",
    "`'ORIGEN'\n",
    "'SECTOR'\n",
    "'SEXO'\n",
    "'NEUMONIA'\n",
    "'EMBARAZO'\n",
    "'DIABETES'\n",
    "'EPOC'\n",
    "'ASMA'\n",
    "'INMUSUPR'\n",
    "'HIPERTENSION'\n",
    "'OTRA_COM'\n",
    "'CARDIOVASCULAR'\n",
    "'OBESIDAD'\n",
    "'RENAL_CRONICA'\n",
    "'TABAQUISMO'`"
   ]
  },
  {
   "cell_type": "code",
   "execution_count": 20,
   "metadata": {},
   "outputs": [],
   "source": [
    "# Construimos los dummies\n",
    "mexicoInfectadosDummies = pd.get_dummies(mexicoInfectadosDepuradoCasoCerrados, prefix=['ORIGEN','SECTOR','SEXO','NEUMONIA','EMBARAZO','DIABETES','EPOC','ASMA','INMUSUPR','HIPERTENSION','OTRA_COM','CARDIOVASCULAR','OBESIDAD','RENAL_CRONICA','TABAQUISMO'],columns=['ORIGEN','SECTOR','SEXO','NEUMONIA','EMBARAZO','DIABETES','EPOC','ASMA','INMUSUPR','HIPERTENSION','OTRA_COM','CARDIOVASCULAR','OBESIDAD','RENAL_CRONICA','TABAQUISMO'], prefix_sep='.',drop_first=True)\n"
   ]
  },
  {
   "cell_type": "code",
   "execution_count": 21,
   "metadata": {
    "scrolled": true
   },
   "outputs": [
    {
     "name": "stdout",
     "output_type": "stream",
     "text": [
      "El dataset ahora se compone de 22 columnas más con un total de 42\n"
     ]
    }
   ],
   "source": [
    "# Nuevas columnas\n",
    "print(f'El dataset ahora se compone de {mexicoInfectadosDummies.shape[1]-mexicoInfectadosDepuradoCasoCerrados.shape[1]} columnas más con un total de {mexicoInfectadosDummies.shape[1]}')\n"
   ]
  },
  {
   "cell_type": "code",
   "execution_count": 22,
   "metadata": {},
   "outputs": [
    {
     "data": {
      "text/plain": [
       "0    0.74679\n",
       "1    0.25321\n",
       "Name: TIPO_PACIENTE, dtype: float64"
      ]
     },
     "execution_count": 22,
     "metadata": {},
     "output_type": "execute_result"
    }
   ],
   "source": [
    "# Los datos de TIPO_PACIENTE se convierten: AMBULATORIO pasa de 1 a 0, HOSPITALIZADO pasa de 2 a 1\n",
    "mexicoInfectadosDummies['TIPO_PACIENTE'] = mexicoInfectadosDummies['TIPO_PACIENTE'].apply(lambda x: 0 if (x == 'AMBULATORIO') else 1)\n",
    "\n",
    "mexicoInfectadosDummies['TIPO_PACIENTE'].value_counts(normalize= True)\n"
   ]
  },
  {
   "cell_type": "code",
   "execution_count": 23,
   "metadata": {},
   "outputs": [
    {
     "name": "stdout",
     "output_type": "stream",
     "text": [
      "<class 'pandas.core.frame.DataFrame'>\n",
      "Int64Index: 621295 entries, 0 to 1003431\n",
      "Data columns (total 42 columns):\n",
      " #   Column                    Non-Null Count   Dtype         \n",
      "---  ------                    --------------   -----         \n",
      " 0   TIPO_PACIENTE             621295 non-null  int64         \n",
      " 1   FECHA_INGRESO             621295 non-null  datetime64[ns]\n",
      " 2   FECHA_SINTOMAS            621295 non-null  datetime64[ns]\n",
      " 3   FECHA_DEF                 621295 non-null  datetime64[ns]\n",
      " 4   EDAD                      621295 non-null  int64         \n",
      " 5   ORIGEN.USMER              621295 non-null  uint8         \n",
      " 6   SECTOR.DIF                621295 non-null  uint8         \n",
      " 7   SECTOR.ESTATAL            621295 non-null  uint8         \n",
      " 8   SECTOR.IMSS               621295 non-null  uint8         \n",
      " 9   SECTOR.IMSS-BIENESTAR     621295 non-null  uint8         \n",
      " 10  SECTOR.ISSSTE             621295 non-null  uint8         \n",
      " 11  SECTOR.MUNICIPAL          621295 non-null  uint8         \n",
      " 12  SECTOR.PEMEX              621295 non-null  uint8         \n",
      " 13  SECTOR.PRIVADA            621295 non-null  uint8         \n",
      " 14  SECTOR.SEDENA             621295 non-null  uint8         \n",
      " 15  SECTOR.SEMAR              621295 non-null  uint8         \n",
      " 16  SECTOR.SSA                621295 non-null  uint8         \n",
      " 17  SECTOR.UNIVERSITARIO      621295 non-null  uint8         \n",
      " 18  SEXO.MUJER                621295 non-null  uint8         \n",
      " 19  NEUMONIA.SE IGNORA        621295 non-null  uint8         \n",
      " 20  NEUMONIA.SI               621295 non-null  uint8         \n",
      " 21  EMBARAZO.SI               621295 non-null  uint8         \n",
      " 22  DIABETES.SE IGNORA        621295 non-null  uint8         \n",
      " 23  DIABETES.SI               621295 non-null  uint8         \n",
      " 24  EPOC.SE IGNORA            621295 non-null  uint8         \n",
      " 25  EPOC.SI                   621295 non-null  uint8         \n",
      " 26  ASMA.SE IGNORA            621295 non-null  uint8         \n",
      " 27  ASMA.SI                   621295 non-null  uint8         \n",
      " 28  INMUSUPR.SE IGNORA        621295 non-null  uint8         \n",
      " 29  INMUSUPR.SI               621295 non-null  uint8         \n",
      " 30  HIPERTENSION.SE IGNORA    621295 non-null  uint8         \n",
      " 31  HIPERTENSION.SI           621295 non-null  uint8         \n",
      " 32  OTRA_COM.SE IGNORA        621295 non-null  uint8         \n",
      " 33  OTRA_COM.SI               621295 non-null  uint8         \n",
      " 34  CARDIOVASCULAR.SE IGNORA  621295 non-null  uint8         \n",
      " 35  CARDIOVASCULAR.SI         621295 non-null  uint8         \n",
      " 36  OBESIDAD.SE IGNORA        621295 non-null  uint8         \n",
      " 37  OBESIDAD.SI               621295 non-null  uint8         \n",
      " 38  RENAL_CRONICA.SE IGNORA   621295 non-null  uint8         \n",
      " 39  RENAL_CRONICA.SI          621295 non-null  uint8         \n",
      " 40  TABAQUISMO.SE IGNORA      621295 non-null  uint8         \n",
      " 41  TABAQUISMO.SI             621295 non-null  uint8         \n",
      "dtypes: datetime64[ns](3), int64(2), uint8(37)\n",
      "memory usage: 50.4 MB\n"
     ]
    }
   ],
   "source": [
    "mexicoInfectadosDummies.info()"
   ]
  },
  {
   "cell_type": "markdown",
   "metadata": {},
   "source": [
    "<a id=\"clasificadores\"></a>\n",
    "# Clasificadores\n",
    "- #### <a href='#top'> Tabla de Contenidos </a>"
   ]
  },
  {
   "cell_type": "markdown",
   "metadata": {},
   "source": [
    "<a id=\"imports\"></a>\n",
    "## Librerías necesarias\n",
    "- #### <a href='#top'> Tabla de Contenidos </a>\n",
    "\n",
    "Empezamos cargando las librerías necesarias para poder hacer el pipeline."
   ]
  },
  {
   "cell_type": "code",
   "execution_count": 24,
   "metadata": {},
   "outputs": [],
   "source": [
    "# Importamos las librerias para contruir nuestros clasificadores\n",
    "\n",
    "from sklearn.pipeline import Pipeline,FeatureUnion\n",
    "from sklearn.impute import SimpleImputer\n",
    "from sklearn.preprocessing import StandardScaler, MinMaxScaler\n",
    "from sklearn.metrics import accuracy_score, confusion_matrix, classification_report, recall_score, precision_score, f1_score, roc_curve, precision_recall_curve, plot_precision_recall_curve, average_precision_score\n",
    "from sklearn.model_selection import train_test_split, StratifiedKFold, GridSearchCV\n",
    "from sklearn.neighbors import KNeighborsClassifier\n",
    "from sklearn.linear_model import LogisticRegression\n",
    "from sklearn.naive_bayes import GaussianNB\n",
    "\n",
    "import joblib\n",
    "import pickle"
   ]
  },
  {
   "cell_type": "markdown",
   "metadata": {},
   "source": [
    "<a id=\"primer_solucion\"></a>\n",
    "## Primera solución\n",
    "- #### <a href='#top'> Tabla de Contenidos </a>\n",
    "\n",
    "En esta instancia con el dataset ya ordenado procedemos a armar un pipeline simple que nos permita comprender si vamos a poder responder o no nuestra pregunta de negrocio."
   ]
  },
  {
   "cell_type": "code",
   "execution_count": 25,
   "metadata": {},
   "outputs": [],
   "source": [
    "# Dropeamos y guardamos los dataset con features y nuestra variable objetivo\n",
    "X = mexicoInfectadosDummies.drop(columns=['FECHA_INGRESO','FECHA_SINTOMAS', 'TIPO_PACIENTE', 'FECHA_DEF'])\n",
    "y = mexicoInfectadosDummies['TIPO_PACIENTE'] \n",
    "\n",
    "X_train, X_test, y_train, y_test=train_test_split(X,y,test_size=0.3, random_state=30, stratify=y)"
   ]
  },
  {
   "cell_type": "code",
   "execution_count": 26,
   "metadata": {},
   "outputs": [],
   "source": [
    "# Escalamos los datos para que ya todos los modelos los usen escalados\n",
    "scaler = StandardScaler()\n",
    "X_train = scaler.fit_transform(X_train)\n",
    "X_test = scaler.transform(X_test)"
   ]
  },
  {
   "cell_type": "code",
   "execution_count": 27,
   "metadata": {},
   "outputs": [
    {
     "name": "stdout",
     "output_type": "stream",
     "text": [
      "0    0.746791\n",
      "1    0.253209\n",
      "Name: TIPO_PACIENTE, dtype: float64\n",
      "0    0.746788\n",
      "1    0.253212\n",
      "Name: TIPO_PACIENTE, dtype: float64\n"
     ]
    }
   ],
   "source": [
    "# Verificamos que los sets de test y train mantengan la proporción original en  la distribución de clases del target\n",
    "print(y_train.value_counts(normalize=True))\n",
    "print(y_test.value_counts(normalize=True))"
   ]
  },
  {
   "cell_type": "code",
   "execution_count": 28,
   "metadata": {},
   "outputs": [],
   "source": [
    "pasos = [('scaler', StandardScaler()), \n",
    "         ('log', LogisticRegression())]\n",
    "\n",
    "pipe_1 = Pipeline(pasos)"
   ]
  },
  {
   "cell_type": "code",
   "execution_count": 29,
   "metadata": {},
   "outputs": [
    {
     "data": {
      "text/plain": [
       "Pipeline(steps=[('scaler', StandardScaler()), ('log', LogisticRegression())])"
      ]
     },
     "execution_count": 29,
     "metadata": {},
     "output_type": "execute_result"
    }
   ],
   "source": [
    "pipe_1.fit(X_train,y_train)"
   ]
  },
  {
   "cell_type": "code",
   "execution_count": 30,
   "metadata": {},
   "outputs": [
    {
     "data": {
      "text/plain": [
       "0.8928906748788823"
      ]
     },
     "execution_count": 30,
     "metadata": {},
     "output_type": "execute_result"
    }
   ],
   "source": [
    "pipe_1.score(X_test,y_test)"
   ]
  },
  {
   "cell_type": "code",
   "execution_count": 31,
   "metadata": {},
   "outputs": [],
   "source": [
    "y_pred = pipe_1.predict(X_test)"
   ]
  },
  {
   "cell_type": "code",
   "execution_count": 32,
   "metadata": {
    "scrolled": false
   },
   "outputs": [
    {
     "data": {
      "text/plain": [
       "Text(33.0, 0.5, 'REALES')"
      ]
     },
     "execution_count": 32,
     "metadata": {},
     "output_type": "execute_result"
    },
    {
     "data": {
      "image/png": "[encoded data removed]",
      "text/plain": [
       "<Figure size 432x288 with 2 Axes>"
      ]
     },
     "metadata": {
      "needs_background": "light"
     },
     "output_type": "display_data"
    }
   ],
   "source": [
    "conf_mat = confusion_matrix(y_test, y_pred)\n",
    "sns.heatmap(conf_mat,annot=True,cmap='Greens_r',fmt='g')\n",
    "plt.xlabel('PREDICHOS')\n",
    "plt.ylabel('REALES')"
   ]
  },
  {
   "cell_type": "markdown",
   "metadata": {},
   "source": [
    "<a id=\"knn\"></a>\n",
    "## KNN\n",
    "- #### <a href='#top'> Tabla de Contenidos </a>"
   ]
  },
  {
   "cell_type": "markdown",
   "metadata": {},
   "source": [
    "<img src=\"./warning.jpg\"><br> \n",
    "<div style=\"text-align: center;color:#FF0000\"><h2> El proceso de GridSearch puede tardar 7 horas </h2></div>\n",
    "<div style=\"text-align: justify\">Tener en cuenta que esta configurado para tomar todos los core de la CPU y aún así tarda 7 horas, en caso de querer ejecutar con menos carga de CPU remover el <b>n_jobs=-1</b>.<br><br>Se guardó en un pkl el modelo entrenado que será entregado junto con la notebook.</div>"
   ]
  },
  {
   "cell_type": "code",
   "execution_count": 33,
   "metadata": {},
   "outputs": [
    {
     "name": "stdout",
     "output_type": "stream",
     "text": [
      "{'n_neighbors': (3, 5, 7), 'weights': ['uniform', 'distance']}\n",
      "El proceso tardó 1.008106666660069e-05 minutos\n"
     ]
    }
   ],
   "source": [
    "start_time = timeit.default_timer()\n",
    "# Instanciamos un modelo KNN\n",
    "knn_clas = KNeighborsClassifier()\n",
    "\n",
    "# Especificamos 3 folds para no sobre cargar el Grid Search\n",
    "folds_knn=StratifiedKFold(n_splits=3, random_state=12, shuffle=True)\n",
    "\n",
    "# Definimos los hiperparámetros que vamos usar\n",
    "k_range = (3,5,7)\n",
    "weight_options = ['uniform', 'distance']\n",
    "param_grid = dict(n_neighbors=k_range, weights=weight_options)\n",
    "print(param_grid)\n",
    "\n",
    "# Hiperparámetros del modelo\n",
    "param_grid = [param_grid]\n",
    "\n",
    "\n",
    "# Probamos el modelo con 'accuracy' como scoring lo seteamos para correr en verbose y con todos los nucleos\n",
    "grid_knn = GridSearchCV(knn_clas, param_grid, cv=folds_knn, scoring='accuracy', verbose= 1, n_jobs=-1)\n",
    "elapsed = timeit.default_timer() - start_time\n",
    "elapsed\n",
    "print(f'El proceso tardó {elapsed/60} minutos')"
   ]
  },
  {
   "cell_type": "code",
   "execution_count": 34,
   "metadata": {},
   "outputs": [
    {
     "name": "stdout",
     "output_type": "stream",
     "text": [
      "Fitting 3 folds for each of 6 candidates, totalling 18 fits\n"
     ]
    },
    {
     "name": "stderr",
     "output_type": "stream",
     "text": [
      "[Parallel(n_jobs=-1)]: Using backend LokyBackend with 8 concurrent workers.\n",
      "[Parallel(n_jobs=-1)]: Done  18 out of  18 | elapsed: 286.3min finished\n"
     ]
    },
    {
     "name": "stdout",
     "output_type": "stream",
     "text": [
      "El proceso tardó 302.15629992429996 minutos\n"
     ]
    }
   ],
   "source": [
    "# Tomamos el tiempos de inicio de ejecución\n",
    "start_time = timeit.default_timer()\n",
    "\n",
    "# Fiteamos el GridSearch del KNN\n",
    "grid_results = grid_knn.fit(X_train, y_train)\n",
    "\n",
    "# Medimos cuanto tardó en ejecutar\n",
    "elapsed = timeit.default_timer() - start_time\n",
    "print(f'El proceso tardó {elapsed/60} minutos')"
   ]
  },
  {
   "cell_type": "code",
   "execution_count": 35,
   "metadata": {},
   "outputs": [
    {
     "data": {
      "text/plain": [
       "{'n_neighbors': 7, 'weights': 'uniform'}"
      ]
     },
     "execution_count": 35,
     "metadata": {},
     "output_type": "execute_result"
    }
   ],
   "source": [
    "# Mejor configuración para el KNN\n",
    "grid_results.best_params_"
   ]
  },
  {
   "cell_type": "code",
   "execution_count": 36,
   "metadata": {},
   "outputs": [
    {
     "data": {
      "text/plain": [
       "0.8893508015855643"
      ]
     },
     "execution_count": 36,
     "metadata": {},
     "output_type": "execute_result"
    }
   ],
   "source": [
    "# Mejor score al que llega con los mejores parametros\n",
    "grid_results.best_score_"
   ]
  },
  {
   "cell_type": "code",
   "execution_count": 37,
   "metadata": {},
   "outputs": [],
   "source": [
    "# Guardo el mejor modelo en un archivo\n",
    "with open(\"gridKNN_best.pkl\", 'wb') as file:\n",
    "    pickle.dump(grid_results.best_estimator_, file)\n",
    "\n",
    "#joblib.dump(grid_results.best_estimator_, 'gridKNN_best.pkl')"
   ]
  },
  {
   "cell_type": "code",
   "execution_count": 38,
   "metadata": {},
   "outputs": [],
   "source": [
    "# Predigo los valores de y con el X_test ya escalado\n",
    "y_KNN_pred = grid_results.predict(X_test)"
   ]
  },
  {
   "cell_type": "code",
   "execution_count": 39,
   "metadata": {},
   "outputs": [],
   "source": [
    "np.save('y_knn_pred_grids.npy', y_KNN_pred)"
   ]
  },
  {
   "cell_type": "code",
   "execution_count": 40,
   "metadata": {
    "scrolled": true
   },
   "outputs": [
    {
     "data": {
      "text/plain": [
       "Text(33.0, 0.5, 'REALES')"
      ]
     },
     "execution_count": 40,
     "metadata": {},
     "output_type": "execute_result"
    },
    {
     "data": {
      "image/png": "[encoded data removed]",
      "text/plain": [
       "<Figure size 432x288 with 2 Axes>"
      ]
     },
     "metadata": {
      "needs_background": "light"
     },
     "output_type": "display_data"
    }
   ],
   "source": [
    "# Armo la matriz de confusión en base a lo predicho en el paso anterior\n",
    "sns.heatmap(confusion_matrix(y_test, y_KNN_pred), annot=True, cmap='Greens_r',fmt='g')\n",
    "plt.xlabel('PREDICHOS')\n",
    "plt.ylabel('REALES')"
   ]
  },
  {
   "cell_type": "code",
   "execution_count": 41,
   "metadata": {},
   "outputs": [
    {
     "name": "stdout",
     "output_type": "stream",
     "text": [
      "               precision    recall  f1-score   support\n",
      "\n",
      "  AMBULATORIO       0.92      0.94      0.93    139193\n",
      "HOSPITALIZADO       0.80      0.75      0.77     47196\n",
      "\n",
      "     accuracy                           0.89    186389\n",
      "    macro avg       0.86      0.84      0.85    186389\n",
      " weighted avg       0.89      0.89      0.89    186389\n",
      "\n"
     ]
    }
   ],
   "source": [
    "# Armo el clasification report en base a lo predicho\n",
    "target_names = ['AMBULATORIO', 'HOSPITALIZADO']\n",
    "print(classification_report(y_test, y_KNN_pred, target_names = target_names))"
   ]
  },
  {
   "cell_type": "code",
   "execution_count": 42,
   "metadata": {},
   "outputs": [
    {
     "data": {
      "image/png": "[encoded data removed]",
      "text/plain": [
       "<Figure size 432x288 with 1 Axes>"
      ]
     },
     "metadata": {
      "needs_background": "light"
     },
     "output_type": "display_data"
    }
   ],
   "source": [
    "# ROC Curve y AUC\n",
    "y_pred_proba_knn = grid_results.predict_proba(X_test)\n",
    "\n",
    "fpr_gnb,tpr_gnb,thr_gnb = roc_curve(y_test, y_pred_proba_knn[:,1])\n",
    "\n",
    "df = pd.DataFrame(dict(fpr=fpr_gnb, tpr=tpr_gnb, thr = thr_gnb))\n",
    "\n",
    "plt.axis([0, 1.01, 0, 1.01])\n",
    "plt.xlabel('1 - Specificty')\n",
    "plt.ylabel('TPR / Sensitivity')\n",
    "plt.title('ROC Curve')\n",
    "plt.plot(df['fpr'],df['tpr'])\n",
    "plt.plot(np.arange(0,1, step =0.01), np.arange(0,1, step =0.01))\n",
    "plt.show()"
   ]
  },
  {
   "cell_type": "code",
   "execution_count": 43,
   "metadata": {},
   "outputs": [],
   "source": [
    "# Salvo el predict_proba del KNN para el cálculo final\n",
    "np.save('y_knn_pred_proba_grids.npy', y_pred_proba_knn)"
   ]
  },
  {
   "cell_type": "markdown",
   "metadata": {},
   "source": [
    "<a id=\"regresion_logistica\"></a>\n",
    "## Regresión Logistica\n",
    "- #### <a href='#top'> Tabla de Contenidos </a>\n",
    "\n"
   ]
  },
  {
   "cell_type": "code",
   "execution_count": 44,
   "metadata": {},
   "outputs": [],
   "source": [
    "# Recordar que X_train y X_test ya vienen escalados"
   ]
  },
  {
   "cell_type": "code",
   "execution_count": 45,
   "metadata": {},
   "outputs": [],
   "source": [
    "# Instanciamos el modelo\n",
    "log_reg = LogisticRegression()"
   ]
  },
  {
   "cell_type": "code",
   "execution_count": 46,
   "metadata": {},
   "outputs": [
    {
     "data": {
      "text/plain": [
       "LogisticRegression()"
      ]
     },
     "execution_count": 46,
     "metadata": {},
     "output_type": "execute_result"
    }
   ],
   "source": [
    "# Ajustamos el modelo\n",
    "log_reg.fit(X_train, y_train)"
   ]
  },
  {
   "cell_type": "code",
   "execution_count": 47,
   "metadata": {},
   "outputs": [],
   "source": [
    "# Predecimos sobre test\n",
    "y_logreg_test_pred = log_reg.predict(X_test)"
   ]
  },
  {
   "cell_type": "code",
   "execution_count": 48,
   "metadata": {},
   "outputs": [
    {
     "data": {
      "text/plain": [
       "0.8928906748788823"
      ]
     },
     "execution_count": 48,
     "metadata": {},
     "output_type": "execute_result"
    }
   ],
   "source": [
    "# Vemos el accuracy score\n",
    "accuracy_score(y_test, y_logreg_test_pred)"
   ]
  },
  {
   "cell_type": "code",
   "execution_count": 49,
   "metadata": {},
   "outputs": [
    {
     "data": {
      "text/plain": [
       "0    0.74679\n",
       "1    0.25321\n",
       "Name: TIPO_PACIENTE, dtype: float64"
      ]
     },
     "execution_count": 49,
     "metadata": {},
     "output_type": "execute_result"
    }
   ],
   "source": [
    "# Cuál es la proporción de hospitalizados y ambulatorios, para ver si el accuracy tiene algún sentido\n",
    "mexicoInfectadosDummies['TIPO_PACIENTE'].value_counts(normalize = True)"
   ]
  },
  {
   "cell_type": "code",
   "execution_count": 50,
   "metadata": {},
   "outputs": [
    {
     "data": {
      "text/plain": [
       "Text(33.0, 0.5, 'Reales')"
      ]
     },
     "execution_count": 50,
     "metadata": {},
     "output_type": "execute_result"
    },
    {
     "data": {
      "image/png": "[encoded data removed]",
      "text/plain": [
       "<Figure size 432x288 with 2 Axes>"
      ]
     },
     "metadata": {
      "needs_background": "light"
     },
     "output_type": "display_data"
    }
   ],
   "source": [
    "sns.heatmap(confusion_matrix(y_test, y_logreg_test_pred), annot=True, cmap='Greens_r',fmt='g')\n",
    "plt.xlabel('Predichos')\n",
    "plt.ylabel('Reales')"
   ]
  },
  {
   "cell_type": "code",
   "execution_count": 51,
   "metadata": {},
   "outputs": [
    {
     "name": "stdout",
     "output_type": "stream",
     "text": [
      "               precision    recall  f1-score   support\n",
      "\n",
      "  AMBULATORIO       0.90      0.96      0.93    139193\n",
      "HOSPITALIZADO       0.85      0.70      0.77     47196\n",
      "\n",
      "     accuracy                           0.89    186389\n",
      "    macro avg       0.88      0.83      0.85    186389\n",
      " weighted avg       0.89      0.89      0.89    186389\n",
      "\n"
     ]
    }
   ],
   "source": [
    "target_names = ['AMBULATORIO', 'HOSPITALIZADO']\n",
    "print(classification_report(y_test, y_logreg_test_pred, target_names = target_names))"
   ]
  },
  {
   "cell_type": "code",
   "execution_count": 52,
   "metadata": {
    "scrolled": true
   },
   "outputs": [
    {
     "name": "stdout",
     "output_type": "stream",
     "text": [
      "Accuracy= 0.8928906748788823\n",
      "Recall= 0.7012670565302144\n",
      "Precision= 0.8494687131050768\n"
     ]
    }
   ],
   "source": [
    "print('Accuracy=', accuracy_score(y_test, y_logreg_test_pred))\n",
    "print('Recall=', recall_score(y_test, y_logreg_test_pred))\n",
    "print('Precision=', precision_score(y_test, y_logreg_test_pred))"
   ]
  },
  {
   "cell_type": "code",
   "execution_count": 53,
   "metadata": {},
   "outputs": [
    {
     "data": {
      "image/png": "[encoded data removed]",
      "text/plain": [
       "<Figure size 432x288 with 1 Axes>"
      ]
     },
     "metadata": {
      "needs_background": "light"
     },
     "output_type": "display_data"
    }
   ],
   "source": [
    "y_pred_proba_log_reg = log_reg.predict_proba(X_test)\n",
    "\n",
    "fpr_log_reg,tpr_log_reg,thr_log_reg = roc_curve(y_test, y_pred_proba_log_reg[:,1])\n",
    "\n",
    "df = pd.DataFrame(dict(fpr=fpr_log_reg, tpr=tpr_log_reg, thr = thr_log_reg))\n",
    "\n",
    "plt.axis([0, 1.01, 0, 1.01])\n",
    "plt.xlabel('1 - Specificty')\n",
    "plt.ylabel('TPR / Sensitivity')\n",
    "plt.title('ROC Curve')\n",
    "plt.plot(df['fpr'],df['tpr'])\n",
    "plt.plot(np.arange(0,1, step =0.01), np.arange(0,1, step =0.01))\n",
    "plt.show()"
   ]
  },
  {
   "cell_type": "markdown",
   "metadata": {},
   "source": [
    "<a id=\"regresion_logistica_tune\"></a>\n",
    "### Repetimos tuneando hiperparámetros\n",
    "- #### <a href='#top'> Tabla de Contenidos </a>"
   ]
  },
  {
   "cell_type": "markdown",
   "metadata": {},
   "source": [
    "[`GridSearchCV`](https://scikit-learn.org/stable/modules/generated/sklearn.model_selection.GridSearchCV.html) va a necesitar 4 argumentos iniciales: \n",
    "- **estimator =**un estimador (es decir, modelo instanciado)\n",
    "- **param_grid=** una grilla de parametros para recorrer (que tiene que ser un diccionario cuyas claves correspondan a los hiperparámetros del modelo y los valores sean listas de valores que va a recorrer `GridSearchCV`.\n",
    "- **cv=** la cantidad de folds para la estrategia de validación cruzada\n",
    "- **scoring=** cuál es la métrica que va a utiliza el método para evaluar cuál es la combinación de hiperparámetros más exitosa. \n",
    "\n",
    "Y uno opcional, pero que es muy recomendable ya que estas exploraciones exhaustivas pueden demorar mucho tiempo: \n",
    "- **n_jobs=** controla el número de procesadores que corren en paralelo."
   ]
  },
  {
   "cell_type": "code",
   "execution_count": 54,
   "metadata": {},
   "outputs": [],
   "source": [
    "# el modelo ya está instanciado y es log_reg\n",
    "\n",
    "# especificacmos los folds para la validación cruzada\n",
    "folds=StratifiedKFold(n_splits=10, random_state=12, shuffle=True)\n",
    "\n",
    "# hiperparámetros del modelo\n",
    "param_grid = [\n",
    "    {'C': [1, 10, 100, 1000],\n",
    "     'penalty': ['l1', 'l2',],\n",
    "     'solver': ['saga']}\n",
    "]\n",
    "\n",
    "\n",
    "# probamos con 'accuracy' como scoring\n",
    "grid = GridSearchCV(log_reg, param_grid, cv=folds, scoring='accuracy', n_jobs=-1)"
   ]
  },
  {
   "cell_type": "code",
   "execution_count": 55,
   "metadata": {},
   "outputs": [
    {
     "data": {
      "text/plain": [
       "156.69379681600185"
      ]
     },
     "execution_count": 55,
     "metadata": {},
     "output_type": "execute_result"
    }
   ],
   "source": [
    "start_time = timeit.default_timer()\n",
    "fit = grid.fit(X_train, y_train)\n",
    "elapsed = timeit.default_timer() - start_time\n",
    "elapsed\n"
   ]
  },
  {
   "cell_type": "code",
   "execution_count": 56,
   "metadata": {},
   "outputs": [
    {
     "name": "stdout",
     "output_type": "stream",
     "text": [
      "0.8920732242215506\n",
      "LogisticRegression(C=10, penalty='l1', solver='saga')\n",
      "{'C': 10, 'penalty': 'l1', 'solver': 'saga'}\n"
     ]
    }
   ],
   "source": [
    "print(grid.best_score_)\n",
    "print (grid.best_estimator_)\n",
    "print (grid.best_params_)"
   ]
  },
  {
   "cell_type": "code",
   "execution_count": 57,
   "metadata": {},
   "outputs": [],
   "source": [
    "# Predecimos sobre test\n",
    "y_test_pred = fit.predict(X_test)"
   ]
  },
  {
   "cell_type": "code",
   "execution_count": 58,
   "metadata": {},
   "outputs": [
    {
     "data": {
      "text/plain": [
       "0.892885309755404"
      ]
     },
     "execution_count": 58,
     "metadata": {},
     "output_type": "execute_result"
    }
   ],
   "source": [
    "# Vemos el accuracy score\n",
    "accuracy_score(y_test, y_test_pred)"
   ]
  },
  {
   "cell_type": "code",
   "execution_count": 59,
   "metadata": {},
   "outputs": [
    {
     "name": "stdout",
     "output_type": "stream",
     "text": [
      "               precision    recall  f1-score   support\n",
      "\n",
      "  AMBULATORIO       0.90      0.96      0.93    139193\n",
      "HOSPITALIZADO       0.85      0.70      0.77     47196\n",
      "\n",
      "     accuracy                           0.89    186389\n",
      "    macro avg       0.88      0.83      0.85    186389\n",
      " weighted avg       0.89      0.89      0.89    186389\n",
      "\n",
      "Accuracy= 0.892885309755404\n",
      "Recall= 0.7012670565302144\n",
      "Precision= 0.8494469111721377\n"
     ]
    },
    {
     "data": {
      "text/plain": [
       "Text(33.0, 0.5, 'Reales')"
      ]
     },
     "execution_count": 59,
     "metadata": {},
     "output_type": "execute_result"
    },
    {
     "data": {
      "image/png": "[encoded data removed]",
      "text/plain": [
       "<Figure size 432x288 with 2 Axes>"
      ]
     },
     "metadata": {
      "needs_background": "light"
     },
     "output_type": "display_data"
    }
   ],
   "source": [
    "target_names = ['AMBULATORIO', 'HOSPITALIZADO']\n",
    "print(classification_report(y_test, y_test_pred, target_names = target_names))\n",
    "\n",
    "print('Accuracy=', accuracy_score(y_test, y_test_pred))\n",
    "print('Recall=', recall_score(y_test, y_test_pred))\n",
    "print('Precision=', precision_score(y_test, y_test_pred))\n",
    "sns.heatmap(confusion_matrix(y_test, y_test_pred), annot=True, cmap='Greens_r',fmt='g')\n",
    "plt.xlabel('Predichos')\n",
    "plt.ylabel('Reales')"
   ]
  },
  {
   "cell_type": "markdown",
   "metadata": {},
   "source": [
    "\n",
    "### Veamos qué diferencia habría usando los parámetros por default de la Regresión Logística\n"
   ]
  },
  {
   "cell_type": "code",
   "execution_count": 60,
   "metadata": {},
   "outputs": [
    {
     "name": "stdout",
     "output_type": "stream",
     "text": [
      "               precision    recall  f1-score   support\n",
      "\n",
      "  AMBULATORIO       0.90      0.96      0.93    139193\n",
      "HOSPITALIZADO       0.85      0.70      0.77     47196\n",
      "\n",
      "     accuracy                           0.89    186389\n",
      "    macro avg       0.88      0.83      0.85    186389\n",
      " weighted avg       0.89      0.89      0.89    186389\n",
      "\n",
      "Accuracy= 0.8928906748788823\n",
      "Recall= 0.7012670565302144\n",
      "Precision= 0.8494687131050768\n"
     ]
    },
    {
     "data": {
      "text/plain": [
       "Text(33.0, 0.5, 'Reales')"
      ]
     },
     "execution_count": 60,
     "metadata": {},
     "output_type": "execute_result"
    },
    {
     "data": {
      "image/png": "[encoded data removed]",
      "text/plain": [
       "<Figure size 432x288 with 2 Axes>"
      ]
     },
     "metadata": {
      "needs_background": "light"
     },
     "output_type": "display_data"
    }
   ],
   "source": [
    "## Prueba con log reg con parámetros stad\n",
    "lr = LogisticRegression()\n",
    "lr.fit(X_train, y_train)\n",
    "y_test_pred1 = lr.predict(X_test)\n",
    "target_names = ['AMBULATORIO', 'HOSPITALIZADO']\n",
    "print(classification_report(y_test, y_test_pred1, target_names = target_names))\n",
    "\n",
    "print('Accuracy=', accuracy_score(y_test, y_test_pred1))\n",
    "print('Recall=', recall_score(y_test, y_test_pred1))\n",
    "print('Precision=', precision_score(y_test, y_test_pred1))\n",
    "sns.heatmap(confusion_matrix(y_test, y_test_pred1), annot=True, cmap='Greens_r',fmt='g')\n",
    "plt.xlabel('Predichos')\n",
    "plt.ylabel('Reales')\n"
   ]
  },
  {
   "cell_type": "markdown",
   "metadata": {},
   "source": [
    "\n",
    "#### Vemos que los resultados con los parámetros elegidos por el gridsearch y los de default, dan prácticamente los mismos resultados\n",
    "\n",
    "(NOTA: si corremos el gridsearch utilizando como parámetro de scoring el \"recall\", da los mismos valores que con el modelo con los parámetros por default\")"
   ]
  },
  {
   "cell_type": "markdown",
   "metadata": {},
   "source": [
    "### En nuestro problema, lo que más nos interesa es identificar bien a los positivos, es decir tener un buen valor de recall o sensibilidad"
   ]
  },
  {
   "cell_type": "markdown",
   "metadata": {},
   "source": [
    "<a id=\"grafico_precission_recall\"></a>\n",
    " \n",
    "### Gráfico precission-recall de scikit-learn\n",
    "- #### <a href='#top'> Tabla de Contenidos </a>\n",
    "https://scikit-learn.org/stable/auto_examples/model_selection/plot_precision_recall.html#sphx-glr-auto-examples-model-selection-plot-precision-recall-py"
   ]
  },
  {
   "cell_type": "code",
   "execution_count": 61,
   "metadata": {},
   "outputs": [
    {
     "name": "stdout",
     "output_type": "stream",
     "text": [
      "Average precision-recall score: 0.83\n"
     ]
    }
   ],
   "source": [
    "\n",
    "y_score = fit.decision_function(X_test)\n",
    "average_precision = average_precision_score(y_test, y_score)\n",
    "\n",
    "print('Average precision-recall score: {0:0.2f}'.format(\n",
    "      average_precision))"
   ]
  },
  {
   "cell_type": "code",
   "execution_count": 62,
   "metadata": {},
   "outputs": [
    {
     "data": {
      "text/plain": [
       "Text(0.5, 1.0, '2-class Precision-Recall curve: AP=0.83')"
      ]
     },
     "execution_count": 62,
     "metadata": {},
     "output_type": "execute_result"
    },
    {
     "data": {
      "image/png": "[encoded data removed]",
      "text/plain": [
       "<Figure size 432x288 with 1 Axes>"
      ]
     },
     "metadata": {
      "needs_background": "light"
     },
     "output_type": "display_data"
    }
   ],
   "source": [
    "\n",
    "disp = plot_precision_recall_curve(fit, X_test, y_test)\n",
    "disp.ax_.set_title('2-class Precision-Recall curve: '\n",
    "                   'AP={0:0.2f}'.format(average_precision))"
   ]
  },
  {
   "cell_type": "markdown",
   "metadata": {},
   "source": [
    "<a id=\"naive_gauss\"></a>\n",
    "## Naive Gauss\n",
    "- #### <a href='#top'> Tabla de Contenidos </a>"
   ]
  },
  {
   "cell_type": "code",
   "execution_count": 63,
   "metadata": {},
   "outputs": [
    {
     "data": {
      "text/plain": [
       "GaussianNB()"
      ]
     },
     "execution_count": 63,
     "metadata": {},
     "output_type": "execute_result"
    }
   ],
   "source": [
    "gnb = GaussianNB()\n",
    "\n",
    "gnb.fit(X_train, y_train)"
   ]
  },
  {
   "cell_type": "code",
   "execution_count": 64,
   "metadata": {},
   "outputs": [
    {
     "data": {
      "text/plain": [
       "0.724"
      ]
     },
     "execution_count": 64,
     "metadata": {},
     "output_type": "execute_result"
    }
   ],
   "source": [
    "y_pred = gnb.predict(X_test)\n",
    "\n",
    "round(accuracy_score(y_test, y_pred), 3)"
   ]
  },
  {
   "cell_type": "code",
   "execution_count": 65,
   "metadata": {},
   "outputs": [
    {
     "name": "stdout",
     "output_type": "stream",
     "text": [
      "Confusion matrix\n",
      "\n",
      " [[91447 47746]\n",
      " [ 3690 43506]]\n",
      "\n",
      "True Positives(TP) =  43506\n",
      "\n",
      "True Negatives(TN) =  91447\n",
      "\n",
      "False Positives(FP) =  47746\n",
      "\n",
      "False Negatives(FN) =  3690\n"
     ]
    }
   ],
   "source": [
    "# confusion matrix\n",
    "\n",
    "conf_mat = confusion_matrix(y_test, y_pred)\n",
    "\n",
    "print('Confusion matrix\\n\\n', conf_mat)\n",
    "\n",
    "print('\\nTrue Positives(TP) = ', conf_mat[1,1])\n",
    "\n",
    "print('\\nTrue Negatives(TN) = ', conf_mat[0,0])\n",
    "\n",
    "print('\\nFalse Positives(FP) = ', conf_mat[0,1])\n",
    "\n",
    "print('\\nFalse Negatives(FN) = ', conf_mat[1,0])\n"
   ]
  },
  {
   "cell_type": "code",
   "execution_count": 66,
   "metadata": {},
   "outputs": [
    {
     "data": {
      "text/plain": [
       "Text(33.0, 0.5, 'Reales')"
      ]
     },
     "execution_count": 66,
     "metadata": {},
     "output_type": "execute_result"
    },
    {
     "data": {
      "image/png": "[encoded data removed]",
      "text/plain": [
       "<Figure size 432x288 with 2 Axes>"
      ]
     },
     "metadata": {
      "needs_background": "light"
     },
     "output_type": "display_data"
    }
   ],
   "source": [
    "conf_mat_df = pd.DataFrame(data=conf_mat, \n",
    "                           index=['0', '1'], \n",
    "                           columns=['0', '1'])\n",
    "\n",
    "sns.heatmap(conf_mat_df, annot=True, cmap='Greens_r',fmt='g');\n",
    "plt.xlabel('Predichos')\n",
    "plt.ylabel('Reales')"
   ]
  },
  {
   "cell_type": "code",
   "execution_count": 67,
   "metadata": {},
   "outputs": [
    {
     "name": "stdout",
     "output_type": "stream",
     "text": [
      "               precision    recall  f1-score   support\n",
      "\n",
      "  AMBULATORIO       0.96      0.66      0.78    139193\n",
      "HOSPITALIZADO       0.48      0.92      0.63     47196\n",
      "\n",
      "     accuracy                           0.72    186389\n",
      "    macro avg       0.72      0.79      0.70    186389\n",
      " weighted avg       0.84      0.72      0.74    186389\n",
      "\n"
     ]
    }
   ],
   "source": [
    "target_names = ['AMBULATORIO', 'HOSPITALIZADO']\n",
    "print(classification_report(y_test, y_pred, target_names = target_names))"
   ]
  },
  {
   "cell_type": "code",
   "execution_count": 68,
   "metadata": {},
   "outputs": [
    {
     "data": {
      "text/plain": [
       "array([0.45509355, 0.12727636, 0.99976044, ..., 0.92464962, 0.9999998 ,\n",
       "       0.05523746])"
      ]
     },
     "execution_count": 68,
     "metadata": {},
     "output_type": "execute_result"
    }
   ],
   "source": [
    "gnb.predict_proba(X_test)[:,1]"
   ]
  },
  {
   "cell_type": "code",
   "execution_count": 69,
   "metadata": {
    "scrolled": true
   },
   "outputs": [
    {
     "data": {
      "image/png": "[encoded data removed]",
      "text/plain": [
       "<Figure size 432x288 with 1 Axes>"
      ]
     },
     "metadata": {
      "needs_background": "light"
     },
     "output_type": "display_data"
    }
   ],
   "source": [
    "# ROC Curve y AUC\n",
    "y_pred_proba = gnb.predict_proba(X_test)\n",
    "\n",
    "from sklearn.metrics import roc_curve\n",
    "fpr_gnb,tpr_gnb,thr_gnb = roc_curve(y_test, y_pred_proba[:,1])\n",
    "\n",
    "df = pd.DataFrame(dict(fpr=fpr_gnb, tpr=tpr_gnb, thr = thr_gnb))\n",
    "\n",
    "plt.axis([0, 1.01, 0, 1.01])\n",
    "plt.xlabel('1 - Specificty')\n",
    "plt.ylabel('TPR / Sensitivity')\n",
    "plt.title('ROC Curve')\n",
    "plt.plot(df['fpr'],df['tpr'])\n",
    "plt.plot(np.arange(0,1, step =0.01), np.arange(0,1, step =0.01))\n",
    "plt.show()"
   ]
  },
  {
   "cell_type": "markdown",
   "metadata": {},
   "source": [
    "<a id=\"comp_model\"></a>\n",
    "## Comparacion de Modelos\n",
    "- #### <a href='#top'> Tabla de Contenidos </a>\n"
   ]
  },
  {
   "cell_type": "markdown",
   "metadata": {},
   "source": [
    "<img src=\"./warning_cinta_slim.png\">"
   ]
  },
  {
   "cell_type": "markdown",
   "metadata": {},
   "source": [
    "<div style=\"text-align: center;color:#FF0000\"><h1> Carga de Modelo KNN </h1></div>\n",
    "<div style=\"text-align: justify\">Este proceso carga desde el disco el modelo KNN que resulta del Grid Search y el resultado del predict_proba para los pasos que siguen. No se debería ejecutar si ya se ejecutó el proceso de Grid Search.</div>"
   ]
  },
  {
   "cell_type": "code",
   "execution_count": null,
   "metadata": {},
   "outputs": [],
   "source": [
    "#Carga el modelo KNN que resolvio el Grid Search\n",
    "loaded_model = pickle.load(open('gridKNN_best.pkl', 'rb'))\n"
   ]
  },
  {
   "cell_type": "code",
   "execution_count": null,
   "metadata": {},
   "outputs": [],
   "source": [
    "#Carga el modelo KNN que resolvio el Grid Search\n",
    "y_pred_proba_knn = np.load('y_knn_pred_proba_grids.npy')\n"
   ]
  },
  {
   "cell_type": "markdown",
   "metadata": {},
   "source": [
    "<img src=\"./warning_cinta_slim.png\">"
   ]
  },
  {
   "cell_type": "code",
   "execution_count": 70,
   "metadata": {},
   "outputs": [
    {
     "data": {
      "image/png": "[encoded data removed]",
      "text/plain": [
       "<Figure size 432x288 with 1 Axes>"
      ]
     },
     "metadata": {
      "needs_background": "light"
     },
     "output_type": "display_data"
    }
   ],
   "source": [
    "# Curva ROC de los tres modelos\n",
    "fpr_knn_clas,tpr_knn_clas,thr_knn_clas = roc_curve(y_test, y_pred_proba_knn[:,1])\n",
    "fpr_log_reg,tpr_log_reg,thr_log_reg = roc_curve(y_test, y_pred_proba_log_reg[:,1])\n",
    "fpr_gnb,tpr_gnb,thr_gnb = roc_curve(y_test, y_pred_proba[:,1])\n",
    "\n",
    "plt.axis([0, 1.01, 0, 1.01])\n",
    "plt.xlabel('1 - Specificty')\n",
    "plt.ylabel('TPR / Sensitivity')\n",
    "plt.title('ROC Curve')\n",
    "plt.plot(fpr_knn_clas,tpr_knn_clas)\n",
    "plt.plot(fpr_log_reg,tpr_log_reg)\n",
    "plt.plot(fpr_gnb,tpr_gnb)\n",
    "plt.plot(np.arange(0,1, step =0.01), np.arange(0,1, step =0.01))\n",
    "plt.legend([\"KNN\",'Logit','NB'])\n",
    "plt.show() "
   ]
  },
  {
   "cell_type": "code",
   "execution_count": 71,
   "metadata": {},
   "outputs": [
    {
     "name": "stdout",
     "output_type": "stream",
     "text": [
      "AUC-KNN= 0.9032139852817783\n",
      "AUC-Logit= 0.9232704922847842\n",
      "AUC-NB= 0.8697957888097771\n"
     ]
    }
   ],
   "source": [
    "from sklearn.metrics import auc\n",
    "print('AUC-KNN=', auc(fpr_knn_clas,tpr_knn_clas))\n",
    "print('AUC-Logit=', auc(fpr_log_reg,tpr_log_reg))\n",
    "print('AUC-NB=', auc(fpr_gnb,tpr_gnb))"
   ]
  },
  {
   "cell_type": "markdown",
   "metadata": {},
   "source": [
    "Cada una de las distintas herramientas y métricas nos van a permitir comparar distintos modelos que entrenemos y tomar decisiones respecto de cuál es el óptimo para usar (siempre teniendo en cuenta el contexto del problema y la lógica de negocio que tenga detrás)."
   ]
  },
  {
   "cell_type": "markdown",
   "metadata": {},
   "source": [
    "<a id=\"conclusiones\"></a>\n",
    " \n",
    "### Conclusiones\n",
    "- #### <a href='#top'> Tabla de Contenidos </a>\n",
    "\n",
    "Nuestra logica de problema es poder estimar los recursos necesarios para hacer frente a los pacientes que van a ser hospitalizados. Por ello es importante que nuestro modelo sea capaz de predecir tratando de minimizar los casos falsos negativos (FN), ya que esto implicaria una subestimacion de casos hospitalizados y por ende no poder hacer frente a la posible  demanda de camas.\n",
    "\n",
    "Segun lo observado de la comparacion de las Curvas ROC y AUC el modelo que mejor performa es el de **Regresion Logistica** dado que maximiza el AUC."
   ]
  },
  {
   "cell_type": "markdown",
   "metadata": {},
   "source": [
    "<a id=\"teoria\"></a>\n",
    " \n",
    "### Un poco de teoria\n",
    "- #### <a href='#top'> Tabla de Contenidos </a>\n",
    "\n",
    "Dado que Naive Bayes es tan fácil de optimizar y tan rápido desde el punto de vista computacional, es un buen \"baseline\" para un problema de clasificación.\n",
    "\n",
    "Si performa bien, podemos quedarnos con este modelo y si necesitamos mejorar la precisión, tenemos una línea de base sobre la cual mejorar.\n",
    "\n",
    "**Naive Bayes tiende a funcionar bien en las siguientes situaciones:**\n",
    "\n",
    "- Cuando se cumplen los supuestos (cosa que rara vez pasa en casos reales)\n",
    "- Cuando las clases están muy bien separadas y no es necesaria tanta complejidad en el modelo.\n",
    "- Cuando tenemos datos con muy alta dimensionalidad (por ejemplo text mining) donde la complejidad del modelo también es menos importante porque hay mucha información para cada observación."
   ]
  },
  {
   "cell_type": "code",
   "execution_count": 72,
   "metadata": {},
   "outputs": [
    {
     "data": {
      "image/png": "[encoded data removed]",
      "text/plain": [
       "<Figure size 432x288 with 1 Axes>"
      ]
     },
     "metadata": {
      "needs_background": "light"
     },
     "output_type": "display_data"
    }
   ],
   "source": [
    "# Curva Precision_Recall de los tres modelos\n",
    "Pre_knn_clas,Rec_knn_clas,PRthr_knn_clas = precision_recall_curve(y_test, y_pred_proba_knn[:,1])\n",
    "Pre_log_reg,Rec_log_reg,PRthr_log_reg = precision_recall_curve(y_test, y_pred_proba_log_reg[:,1])\n",
    "Pre_gnb,Rec_gnb,PRthr_gnb = precision_recall_curve(y_test, y_pred_proba[:,1])\n",
    "\n",
    "plt.axis('auto')\n",
    "plt.xlabel('Recall')\n",
    "plt.ylabel('Precision')\n",
    "plt.title('Precision_Recall Curve')\n",
    "plt.plot(Rec_knn_clas,Pre_knn_clas)\n",
    "plt.plot(Rec_log_reg, Pre_log_reg)\n",
    "plt.plot(Rec_gnb,Pre_gnb)\n",
    "plt.legend([\"KNN\",'Logit','NB'])\n",
    "plt.show()"
   ]
  },
  {
   "cell_type": "code",
   "execution_count": 73,
   "metadata": {},
   "outputs": [
    {
     "name": "stdout",
     "output_type": "stream",
     "text": [
      "AUC-KNN= 0.81993843262754\n",
      "AUC-Logit= 0.8295213870278568\n",
      "AUC-NB= 0.6472572049291205\n"
     ]
    }
   ],
   "source": [
    "# Area bajo la curva Precision_Recall\n",
    "print('AUC-KNN=', auc(Rec_knn_clas,Pre_knn_clas))\n",
    "print('AUC-Logit=', auc(Rec_log_reg, Pre_log_reg))\n",
    "print('AUC-NB=', auc(Rec_gnb,Pre_gnb))"
   ]
  },
  {
   "cell_type": "markdown",
   "metadata": {},
   "source": [
    "<a id=\"reglog_analisis\"></a>\n",
    " \n",
    "### Analizando la Regresion Logistica\n",
    "- #### <a href='#top'> Tabla de Contenidos </a>"
   ]
  },
  {
   "cell_type": "markdown",
   "metadata": {},
   "source": [
    "#### Miremos el umbral con los datos de Train"
   ]
  },
  {
   "cell_type": "code",
   "execution_count": 74,
   "metadata": {},
   "outputs": [
    {
     "data": {
      "text/plain": [
       "<matplotlib.legend.Legend at 0x7fb48709bf90>"
      ]
     },
     "execution_count": 74,
     "metadata": {},
     "output_type": "execute_result"
    },
    {
     "data": {
      "image/png": "[encoded data removed]",
      "text/plain": [
       "<Figure size 432x288 with 1 Axes>"
      ]
     },
     "metadata": {
      "needs_background": "light"
     },
     "output_type": "display_data"
    }
   ],
   "source": [
    "# Histograma de probabilidades\n",
    "\n",
    "sns.distplot(log_reg.predict_proba(X_train[y_train==0])[:,1])\n",
    "sns.distplot(log_reg.predict_proba(X_train[y_train==1])[:,1])\n",
    "ylim = plt.ylim()\n",
    "plt.vlines(0.5, ylim[0], ylim[1])\n",
    "plt.ylim(ylim)\n",
    "plt.legend(['Umbral', 'Ambulatorio', 'Hospitalizado'])"
   ]
  },
  {
   "cell_type": "code",
   "execution_count": 75,
   "metadata": {},
   "outputs": [],
   "source": [
    "umbral = 0.2\n",
    "probs = log_reg.predict_proba(X_train)[:,1]\n",
    "y_pred_train = probs > umbral"
   ]
  },
  {
   "cell_type": "code",
   "execution_count": 76,
   "metadata": {},
   "outputs": [
    {
     "data": {
      "text/plain": [
       "Text(33.0, 0.5, 'Reales')"
      ]
     },
     "execution_count": 76,
     "metadata": {},
     "output_type": "execute_result"
    },
    {
     "data": {
      "image/png": "[encoded data removed]",
      "text/plain": [
       "<Figure size 432x288 with 2 Axes>"
      ]
     },
     "metadata": {
      "needs_background": "light"
     },
     "output_type": "display_data"
    }
   ],
   "source": [
    "sns.heatmap(confusion_matrix(y_train, y_pred_train), annot=True, fmt='4d')\n",
    "plt.xlabel('Predichos')\n",
    "plt.ylabel('Reales')"
   ]
  },
  {
   "cell_type": "code",
   "execution_count": 77,
   "metadata": {},
   "outputs": [
    {
     "name": "stdout",
     "output_type": "stream",
     "text": [
      "               precision    recall  f1-score   support\n",
      "\n",
      "  AMBULATORIO       0.95      0.86      0.90    324784\n",
      "HOSPITALIZADO       0.68      0.85      0.76    110122\n",
      "\n",
      "     accuracy                           0.86    434906\n",
      "    macro avg       0.81      0.86      0.83    434906\n",
      " weighted avg       0.88      0.86      0.87    434906\n",
      "\n"
     ]
    }
   ],
   "source": [
    "target_names = ['AMBULATORIO', 'HOSPITALIZADO']\n",
    "print(classification_report(y_train, y_pred_train, target_names = target_names))"
   ]
  },
  {
   "cell_type": "markdown",
   "metadata": {},
   "source": [
    "#### Miremos el umbral con los datos de Test"
   ]
  },
  {
   "cell_type": "code",
   "execution_count": 78,
   "metadata": {},
   "outputs": [
    {
     "data": {
      "text/plain": [
       "<matplotlib.legend.Legend at 0x7fb486eede90>"
      ]
     },
     "execution_count": 78,
     "metadata": {},
     "output_type": "execute_result"
    },
    {
     "data": {
      "image/png": "[encoded data removed]",
      "text/plain": [
       "<Figure size 432x288 with 1 Axes>"
      ]
     },
     "metadata": {
      "needs_background": "light"
     },
     "output_type": "display_data"
    }
   ],
   "source": [
    "# Histograma de probabilidades\n",
    "\n",
    "sns.distplot(log_reg.predict_proba(X_test[y_test==0])[:,1])\n",
    "sns.distplot(log_reg.predict_proba(X_test[y_test==1])[:,1])\n",
    "ylim = plt.ylim()\n",
    "plt.vlines(0.5, ylim[0], ylim[1])\n",
    "plt.ylim(ylim)\n",
    "plt.legend(['Umbral', 'Ambulatorio', 'Hospitalizado'])"
   ]
  },
  {
   "cell_type": "code",
   "execution_count": 79,
   "metadata": {},
   "outputs": [],
   "source": [
    "umbral = 0.2\n",
    "probs = log_reg.predict_proba(X_test)[:,1]\n",
    "y_pred_test = probs > umbral"
   ]
  },
  {
   "cell_type": "code",
   "execution_count": 80,
   "metadata": {},
   "outputs": [
    {
     "data": {
      "text/plain": [
       "Text(33.0, 0.5, 'Reales')"
      ]
     },
     "execution_count": 80,
     "metadata": {},
     "output_type": "execute_result"
    },
    {
     "data": {
      "image/png": "[encoded data removed]",
      "text/plain": [
       "<Figure size 432x288 with 2 Axes>"
      ]
     },
     "metadata": {
      "needs_background": "light"
     },
     "output_type": "display_data"
    }
   ],
   "source": [
    "sns.heatmap(confusion_matrix(y_test, y_pred_test), annot=True, fmt='4d')\n",
    "plt.xlabel('Predichos')\n",
    "plt.ylabel('Reales')"
   ]
  },
  {
   "cell_type": "code",
   "execution_count": 81,
   "metadata": {},
   "outputs": [
    {
     "name": "stdout",
     "output_type": "stream",
     "text": [
      "               precision    recall  f1-score   support\n",
      "\n",
      "  AMBULATORIO       0.95      0.86      0.90    139193\n",
      "HOSPITALIZADO       0.68      0.86      0.76     47196\n",
      "\n",
      "     accuracy                           0.86    186389\n",
      "    macro avg       0.81      0.86      0.83    186389\n",
      " weighted avg       0.88      0.86      0.87    186389\n",
      "\n"
     ]
    }
   ],
   "source": [
    "target_names = ['AMBULATORIO', 'HOSPITALIZADO']\n",
    "print(classification_report(y_test, y_pred_test, target_names = target_names))"
   ]
  },
  {
   "cell_type": "markdown",
   "metadata": {},
   "source": [
    "#### Importante: \n",
    "Modificando el umbral de decisión, baja la exactitud del modelo, pero ahora detecta correctamente 40354 (86% aprox.) de los casos positivos."
   ]
  }
 ],
 "metadata": {
  "kernelspec": {
   "display_name": "Python 3",
   "language": "python",
   "name": "python3"
  },
  "language_info": {
   "codemirror_mode": {
    "name": "ipython",
    "version": 3
   },
   "file_extension": ".py",
   "mimetype": "text/x-python",
   "name": "python",
   "nbconvert_exporter": "python",
   "pygments_lexer": "ipython3",
   "version": "3.7.7"
  }
 },
 "nbformat": 4,
 "nbformat_minor": 4
}
